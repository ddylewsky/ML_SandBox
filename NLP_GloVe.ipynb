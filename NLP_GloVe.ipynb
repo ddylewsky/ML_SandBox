{
  "nbformat": 4,
  "nbformat_minor": 0,
  "metadata": {
    "colab": {
      "name": "NLP_GloVe.ipynb",
      "provenance": [],
      "include_colab_link": true
    },
    "kernelspec": {
      "name": "python3",
      "display_name": "Python 3"
    },
    "accelerator": "TPU"
  },
  "cells": [
    {
      "cell_type": "markdown",
      "metadata": {
        "id": "view-in-github",
        "colab_type": "text"
      },
      "source": [
        "<a href=\"https://colab.research.google.com/github/ddylewsky/ML_SandBox/blob/master/NLP_GloVe.ipynb\" target=\"_parent\"><img src=\"https://colab.research.google.com/assets/colab-badge.svg\" alt=\"Open In Colab\"/></a>"
      ]
    },
    {
      "cell_type": "code",
      "metadata": {
        "id": "m6a_g5tRTQvV",
        "colab_type": "code",
        "outputId": "90d3d5d6-f975-470f-9ab3-8f802d3e3bdf",
        "colab": {
          "base_uri": "https://localhost:8080/",
          "height": 983
        }
      },
      "source": [
        "!pip install --upgrade tensorflow"
      ],
      "execution_count": 0,
      "outputs": [
        {
          "output_type": "stream",
          "text": [
            "Collecting tensorflow\n",
            "\u001b[?25l  Downloading https://files.pythonhosted.org/packages/85/d4/c0cd1057b331bc38b65478302114194bd8e1b9c2bbc06e300935c0e93d90/tensorflow-2.1.0-cp36-cp36m-manylinux2010_x86_64.whl (421.8MB)\n",
            "\u001b[K     |████████████████████████████████| 421.8MB 41kB/s \n",
            "\u001b[?25hRequirement already satisfied, skipping upgrade: absl-py>=0.7.0 in /usr/local/lib/python3.6/dist-packages (from tensorflow) (0.9.0)\n",
            "Requirement already satisfied, skipping upgrade: opt-einsum>=2.3.2 in /usr/local/lib/python3.6/dist-packages (from tensorflow) (3.1.0)\n",
            "Collecting tensorflow-estimator<2.2.0,>=2.1.0rc0\n",
            "\u001b[?25l  Downloading https://files.pythonhosted.org/packages/18/90/b77c328a1304437ab1310b463e533fa7689f4bfc41549593056d812fab8e/tensorflow_estimator-2.1.0-py2.py3-none-any.whl (448kB)\n",
            "\u001b[K     |████████████████████████████████| 450kB 71.5MB/s \n",
            "\u001b[?25hRequirement already satisfied, skipping upgrade: grpcio>=1.8.6 in /usr/local/lib/python3.6/dist-packages (from tensorflow) (1.27.1)\n",
            "Requirement already satisfied, skipping upgrade: astor>=0.6.0 in /usr/local/lib/python3.6/dist-packages (from tensorflow) (0.8.1)\n",
            "Requirement already satisfied, skipping upgrade: numpy<2.0,>=1.16.0 in /usr/local/lib/python3.6/dist-packages (from tensorflow) (1.17.5)\n",
            "Requirement already satisfied, skipping upgrade: protobuf>=3.8.0 in /usr/local/lib/python3.6/dist-packages (from tensorflow) (3.10.0)\n",
            "Requirement already satisfied, skipping upgrade: wheel>=0.26; python_version >= \"3\" in /usr/local/lib/python3.6/dist-packages (from tensorflow) (0.34.2)\n",
            "Requirement already satisfied, skipping upgrade: keras-preprocessing>=1.1.0 in /usr/local/lib/python3.6/dist-packages (from tensorflow) (1.1.0)\n",
            "Requirement already satisfied, skipping upgrade: gast==0.2.2 in /usr/local/lib/python3.6/dist-packages (from tensorflow) (0.2.2)\n",
            "Requirement already satisfied, skipping upgrade: scipy==1.4.1; python_version >= \"3\" in /usr/local/lib/python3.6/dist-packages (from tensorflow) (1.4.1)\n",
            "Requirement already satisfied, skipping upgrade: google-pasta>=0.1.6 in /usr/local/lib/python3.6/dist-packages (from tensorflow) (0.1.8)\n",
            "Requirement already satisfied, skipping upgrade: termcolor>=1.1.0 in /usr/local/lib/python3.6/dist-packages (from tensorflow) (1.1.0)\n",
            "Collecting tensorboard<2.2.0,>=2.1.0\n",
            "\u001b[?25l  Downloading https://files.pythonhosted.org/packages/40/23/53ffe290341cd0855d595b0a2e7485932f473798af173bbe3a584b99bb06/tensorboard-2.1.0-py3-none-any.whl (3.8MB)\n",
            "\u001b[K     |████████████████████████████████| 3.8MB 51.6MB/s \n",
            "\u001b[?25hRequirement already satisfied, skipping upgrade: wrapt>=1.11.1 in /usr/local/lib/python3.6/dist-packages (from tensorflow) (1.11.2)\n",
            "Requirement already satisfied, skipping upgrade: six>=1.12.0 in /usr/local/lib/python3.6/dist-packages (from tensorflow) (1.12.0)\n",
            "Requirement already satisfied, skipping upgrade: keras-applications>=1.0.8 in /usr/local/lib/python3.6/dist-packages (from tensorflow) (1.0.8)\n",
            "Requirement already satisfied, skipping upgrade: setuptools in /usr/local/lib/python3.6/dist-packages (from protobuf>=3.8.0->tensorflow) (45.1.0)\n",
            "Requirement already satisfied, skipping upgrade: requests<3,>=2.21.0 in /usr/local/lib/python3.6/dist-packages (from tensorboard<2.2.0,>=2.1.0->tensorflow) (2.21.0)\n",
            "Requirement already satisfied, skipping upgrade: werkzeug>=0.11.15 in /usr/local/lib/python3.6/dist-packages (from tensorboard<2.2.0,>=2.1.0->tensorflow) (1.0.0)\n",
            "Requirement already satisfied, skipping upgrade: markdown>=2.6.8 in /usr/local/lib/python3.6/dist-packages (from tensorboard<2.2.0,>=2.1.0->tensorflow) (3.2.1)\n",
            "Requirement already satisfied, skipping upgrade: google-auth-oauthlib<0.5,>=0.4.1 in /usr/local/lib/python3.6/dist-packages (from tensorboard<2.2.0,>=2.1.0->tensorflow) (0.4.1)\n",
            "Requirement already satisfied, skipping upgrade: google-auth<2,>=1.6.3 in /usr/local/lib/python3.6/dist-packages (from tensorboard<2.2.0,>=2.1.0->tensorflow) (1.7.2)\n",
            "Requirement already satisfied, skipping upgrade: h5py in /usr/local/lib/python3.6/dist-packages (from keras-applications>=1.0.8->tensorflow) (2.8.0)\n",
            "Requirement already satisfied, skipping upgrade: chardet<3.1.0,>=3.0.2 in /usr/local/lib/python3.6/dist-packages (from requests<3,>=2.21.0->tensorboard<2.2.0,>=2.1.0->tensorflow) (3.0.4)\n",
            "Requirement already satisfied, skipping upgrade: certifi>=2017.4.17 in /usr/local/lib/python3.6/dist-packages (from requests<3,>=2.21.0->tensorboard<2.2.0,>=2.1.0->tensorflow) (2019.11.28)\n",
            "Requirement already satisfied, skipping upgrade: idna<2.9,>=2.5 in /usr/local/lib/python3.6/dist-packages (from requests<3,>=2.21.0->tensorboard<2.2.0,>=2.1.0->tensorflow) (2.8)\n",
            "Requirement already satisfied, skipping upgrade: urllib3<1.25,>=1.21.1 in /usr/local/lib/python3.6/dist-packages (from requests<3,>=2.21.0->tensorboard<2.2.0,>=2.1.0->tensorflow) (1.24.3)\n",
            "Requirement already satisfied, skipping upgrade: requests-oauthlib>=0.7.0 in /usr/local/lib/python3.6/dist-packages (from google-auth-oauthlib<0.5,>=0.4.1->tensorboard<2.2.0,>=2.1.0->tensorflow) (1.3.0)\n",
            "Requirement already satisfied, skipping upgrade: rsa<4.1,>=3.1.4 in /usr/local/lib/python3.6/dist-packages (from google-auth<2,>=1.6.3->tensorboard<2.2.0,>=2.1.0->tensorflow) (4.0)\n",
            "Requirement already satisfied, skipping upgrade: pyasn1-modules>=0.2.1 in /usr/local/lib/python3.6/dist-packages (from google-auth<2,>=1.6.3->tensorboard<2.2.0,>=2.1.0->tensorflow) (0.2.8)\n",
            "Requirement already satisfied, skipping upgrade: cachetools<3.2,>=2.0.0 in /usr/local/lib/python3.6/dist-packages (from google-auth<2,>=1.6.3->tensorboard<2.2.0,>=2.1.0->tensorflow) (3.1.1)\n",
            "Requirement already satisfied, skipping upgrade: oauthlib>=3.0.0 in /usr/local/lib/python3.6/dist-packages (from requests-oauthlib>=0.7.0->google-auth-oauthlib<0.5,>=0.4.1->tensorboard<2.2.0,>=2.1.0->tensorflow) (3.1.0)\n",
            "Requirement already satisfied, skipping upgrade: pyasn1>=0.1.3 in /usr/local/lib/python3.6/dist-packages (from rsa<4.1,>=3.1.4->google-auth<2,>=1.6.3->tensorboard<2.2.0,>=2.1.0->tensorflow) (0.4.8)\n",
            "Installing collected packages: tensorflow-estimator, tensorboard, tensorflow\n",
            "  Found existing installation: tensorflow-estimator 1.15.1\n",
            "    Uninstalling tensorflow-estimator-1.15.1:\n",
            "      Successfully uninstalled tensorflow-estimator-1.15.1\n",
            "  Found existing installation: tensorboard 1.15.0\n",
            "    Uninstalling tensorboard-1.15.0:\n",
            "      Successfully uninstalled tensorboard-1.15.0\n",
            "  Found existing installation: tensorflow 1.15.0\n",
            "    Uninstalling tensorflow-1.15.0:\n",
            "      Successfully uninstalled tensorflow-1.15.0\n",
            "Successfully installed tensorboard-2.1.0 tensorflow-2.1.0 tensorflow-estimator-2.1.0\n"
          ],
          "name": "stdout"
        }
      ]
    },
    {
      "cell_type": "code",
      "metadata": {
        "id": "hmA6EzkQJ5jt",
        "colab_type": "code",
        "colab": {}
      },
      "source": [
        "import json\n",
        "import tensorflow as tf\n",
        "import csv\n",
        "import random\n",
        "import numpy as np\n",
        "\n",
        "from tensorflow.keras.preprocessing.text import Tokenizer\n",
        "from tensorflow.keras.preprocessing.sequence import pad_sequences\n",
        "from tensorflow.keras.utils import to_categorical\n",
        "from tensorflow.keras import regularizers\n",
        "\n",
        "\n",
        "embedding_dim = 100\n",
        "max_length = 16\n",
        "trunc_type='post'\n",
        "padding_type='post'\n",
        "oov_tok = \"<OOV>\"\n",
        "training_size=160000\n",
        "test_portion=.1\n",
        "\n",
        "corpus = []\n"
      ],
      "execution_count": 0,
      "outputs": []
    },
    {
      "cell_type": "code",
      "metadata": {
        "id": "bM0l_dORKqE0",
        "colab_type": "code",
        "outputId": "f5909f1a-f5f2-439b-c787-e93d021823e3",
        "colab": {
          "base_uri": "https://localhost:8080/",
          "height": 217
        }
      },
      "source": [
        "\n",
        "# Note that I cleaned the Stanford dataset to remove LATIN1 encoding to make it easier for Python CSV reader\n",
        "# You can do that yourself with:\n",
        "# iconv -f LATIN1 -t UTF8 training.1600000.processed.noemoticon.csv -o training_cleaned.csv\n",
        "# I then hosted it on my site to make it easier to use in this notebook\n",
        "\n",
        "!wget --no-check-certificate \\\n",
        "    https://storage.googleapis.com/laurencemoroney-blog.appspot.com/training_cleaned.csv \\\n",
        "    -O /tmp/training_cleaned.csv\n",
        "\n",
        "num_sentences = 0\n",
        "\n",
        "with open(\"/tmp/training_cleaned.csv\") as csvfile:\n",
        "    reader = csv.reader(csvfile, delimiter=',')\n",
        "    for row in reader:\n",
        "        list_item=[]\n",
        "        list_item.append(row[5])\n",
        "        this_label=row[0]\n",
        "        if this_label=='0':\n",
        "            list_item.append(0)\n",
        "        else:\n",
        "            list_item.append(1)\n",
        "        num_sentences = num_sentences + 1\n",
        "        corpus.append(list_item)\n",
        "\n",
        "\n"
      ],
      "execution_count": 0,
      "outputs": [
        {
          "output_type": "stream",
          "text": [
            "--2020-02-27 15:40:53--  https://storage.googleapis.com/laurencemoroney-blog.appspot.com/training_cleaned.csv\n",
            "Resolving storage.googleapis.com (storage.googleapis.com)... 74.125.197.128, 2607:f8b0:400e:c08::80\n",
            "Connecting to storage.googleapis.com (storage.googleapis.com)|74.125.197.128|:443... connected.\n",
            "HTTP request sent, awaiting response... 200 OK\n",
            "Length: 238942690 (228M) [application/octet-stream]\n",
            "Saving to: ‘/tmp/training_cleaned.csv’\n",
            "\n",
            "/tmp/training_clean 100%[===================>] 227.87M   145MB/s    in 1.6s    \n",
            "\n",
            "2020-02-27 15:40:55 (145 MB/s) - ‘/tmp/training_cleaned.csv’ saved [238942690/238942690]\n",
            "\n"
          ],
          "name": "stdout"
        }
      ]
    },
    {
      "cell_type": "code",
      "metadata": {
        "id": "3kxblBUjEUX-",
        "colab_type": "code",
        "outputId": "c69e0b67-44db-4873-9535-8ce871a55c9f",
        "colab": {
          "base_uri": "https://localhost:8080/",
          "height": 72
        }
      },
      "source": [
        "print(num_sentences)\n",
        "print(len(corpus))\n",
        "print(corpus[1])\n",
        "\n",
        "# Expected Output:\n",
        "# 1600000\n",
        "# 1600000\n",
        "# [\"is upset that he can't update his Facebook by texting it... and might cry as a result  School today also. Blah!\", 0]"
      ],
      "execution_count": 0,
      "outputs": [
        {
          "output_type": "stream",
          "text": [
            "1600000\n",
            "1600000\n",
            "[\"is upset that he can't update his Facebook by texting it... and might cry as a result  School today also. Blah!\", 0]\n"
          ],
          "name": "stdout"
        }
      ]
    },
    {
      "cell_type": "code",
      "metadata": {
        "id": "ohOGz24lsNAD",
        "colab_type": "code",
        "colab": {}
      },
      "source": [
        "sentences=[]\n",
        "labels=[]\n",
        "random.shuffle(corpus)\n",
        "for x in range(training_size):\n",
        "    sentences.append(corpus[x][0])\n",
        "    labels.append(corpus[x][1])\n",
        "\n",
        "\n",
        "tokenizer = Tokenizer()\n",
        "tokenizer.fit_on_texts(sentences)\n",
        "\n",
        "word_index = tokenizer.word_index\n",
        "vocab_size=len(word_index)\n",
        "\n",
        "sequences = tokenizer.texts_to_sequences(sentences)\n",
        "padded = pad_sequences(sequences, maxlen=max_length, padding=padding_type, truncating=trunc_type)\n",
        "\n",
        "split = int(test_portion * training_size)\n",
        "\n",
        "test_sequences = padded[0:split]\n",
        "training_sequences = padded[split:training_size]\n",
        "test_labels = labels[0:split]\n",
        "training_labels = labels[split:training_size]"
      ],
      "execution_count": 0,
      "outputs": []
    },
    {
      "cell_type": "code",
      "metadata": {
        "id": "gIrtRem1En3N",
        "colab_type": "code",
        "outputId": "e8e72ff9-1ec1-4d26-8cb6-f90cac1da050",
        "colab": {
          "base_uri": "https://localhost:8080/",
          "height": 54
        }
      },
      "source": [
        "print(vocab_size)\n",
        "print(word_index['i'])\n",
        "# Expected Output\n",
        "# 138858\n",
        "# 1"
      ],
      "execution_count": 0,
      "outputs": [
        {
          "output_type": "stream",
          "text": [
            "137916\n",
            "1\n"
          ],
          "name": "stdout"
        }
      ]
    },
    {
      "cell_type": "code",
      "metadata": {
        "id": "C1zdgJkusRh0",
        "colab_type": "code",
        "outputId": "7e1fee8a-4641-404c-867b-7819c1f9925c",
        "colab": {
          "base_uri": "https://localhost:8080/",
          "height": 217
        }
      },
      "source": [
        "# Note this is the 100 dimension version of GloVe from Stanford\n",
        "# I unzipped and hosted it on my site to make this notebook easier\n",
        "!wget --no-check-certificate \\\n",
        "    https://storage.googleapis.com/laurencemoroney-blog.appspot.com/glove.6B.100d.txt \\\n",
        "    -O /tmp/glove.6B.100d.txt\n",
        "embeddings_index = {};\n",
        "with open('/tmp/glove.6B.100d.txt') as f:\n",
        "    for line in f:\n",
        "        values = line.split();\n",
        "        word = values[0];\n",
        "        coefs = np.asarray(values[1:], dtype='float32');\n",
        "        embeddings_index[word] = coefs;\n",
        "\n",
        "embeddings_matrix = np.zeros((vocab_size+1, embedding_dim));\n",
        "for word, i in word_index.items():\n",
        "    embedding_vector = embeddings_index.get(word);\n",
        "    if embedding_vector is not None:\n",
        "        embeddings_matrix[i] = embedding_vector;"
      ],
      "execution_count": 0,
      "outputs": [
        {
          "output_type": "stream",
          "text": [
            "--2020-02-27 15:41:08--  https://storage.googleapis.com/laurencemoroney-blog.appspot.com/glove.6B.100d.txt\n",
            "Resolving storage.googleapis.com (storage.googleapis.com)... 74.125.142.128, 2607:f8b0:400e:c03::80\n",
            "Connecting to storage.googleapis.com (storage.googleapis.com)|74.125.142.128|:443... connected.\n",
            "HTTP request sent, awaiting response... 200 OK\n",
            "Length: 347116733 (331M) [text/plain]\n",
            "Saving to: ‘/tmp/glove.6B.100d.txt’\n",
            "\n",
            "/tmp/glove.6B.100d. 100%[===================>] 331.04M   170MB/s    in 1.9s    \n",
            "\n",
            "2020-02-27 15:41:10 (170 MB/s) - ‘/tmp/glove.6B.100d.txt’ saved [347116733/347116733]\n",
            "\n"
          ],
          "name": "stdout"
        }
      ]
    },
    {
      "cell_type": "code",
      "metadata": {
        "id": "71NLk_lpFLNt",
        "colab_type": "code",
        "outputId": "09901537-2a79-4deb-a443-cf6d928a4681",
        "colab": {
          "base_uri": "https://localhost:8080/",
          "height": 35
        }
      },
      "source": [
        "print(len(embeddings_matrix))\n",
        "# Expected Output\n",
        "# 138859"
      ],
      "execution_count": 0,
      "outputs": [
        {
          "output_type": "stream",
          "text": [
            "137917\n"
          ],
          "name": "stdout"
        }
      ]
    },
    {
      "cell_type": "code",
      "metadata": {
        "colab_type": "code",
        "id": "iKKvbuEBOGFz",
        "outputId": "0ed4f6e7-0dd4-4fbf-88a3-7bef9b6aa3b0",
        "colab": {
          "base_uri": "https://localhost:8080/",
          "height": 1000
        }
      },
      "source": [
        "model = tf.keras.Sequential([\n",
        "    tf.keras.layers.Embedding(vocab_size+1, embedding_dim, input_length=max_length, weights=[embeddings_matrix], trainable=False),\n",
        "    tf.keras.layers.Dropout(0.2),\n",
        "    tf.keras.layers.Conv1D(64, 5, activation='relu'),\n",
        "    tf.keras.layers.MaxPooling1D(pool_size=4),\n",
        "    tf.keras.layers.LSTM(64),\n",
        "    tf.keras.layers.Dense(1, activation='sigmoid')\n",
        "])\n",
        "model.compile(loss='binary_crossentropy',optimizer='adam',metrics=['accuracy'])\n",
        "model.summary()\n",
        "\n",
        "num_epochs = 50\n",
        "history = model.fit(np.array(training_sequences), np.array(training_labels_), epochs=num_epochs, validation_data=(np.array(test_sequences), np.array(test_labels)), verbose=2)\n",
        "\n",
        "print(\"Training Complete\")\n"
      ],
      "execution_count": 0,
      "outputs": [
        {
          "output_type": "stream",
          "text": [
            "Model: \"sequential_6\"\n",
            "_________________________________________________________________\n",
            "Layer (type)                 Output Shape              Param #   \n",
            "=================================================================\n",
            "embedding_6 (Embedding)      (None, 16, 100)           13791700  \n",
            "_________________________________________________________________\n",
            "dropout_6 (Dropout)          (None, 16, 100)           0         \n",
            "_________________________________________________________________\n",
            "lstm_6 (LSTM)                (None, 64)                42240     \n",
            "_________________________________________________________________\n",
            "dense_6 (Dense)              (None, 1)                 65        \n",
            "=================================================================\n",
            "Total params: 13,834,005\n",
            "Trainable params: 42,305\n",
            "Non-trainable params: 13,791,700\n",
            "_________________________________________________________________\n",
            "Train on 144000 samples, validate on 16000 samples\n",
            "Epoch 1/50\n",
            "144000/144000 - 23s - loss: 0.5587 - accuracy: 0.7070 - val_loss: 0.5168 - val_accuracy: 0.7425\n",
            "Epoch 2/50\n",
            "144000/144000 - 17s - loss: 0.5158 - accuracy: 0.7416 - val_loss: 0.4932 - val_accuracy: 0.7601\n",
            "Epoch 3/50\n",
            "144000/144000 - 17s - loss: 0.4974 - accuracy: 0.7549 - val_loss: 0.4859 - val_accuracy: 0.7680\n",
            "Epoch 4/50\n",
            "144000/144000 - 16s - loss: 0.4859 - accuracy: 0.7622 - val_loss: 0.4796 - val_accuracy: 0.7688\n",
            "Epoch 5/50\n",
            "144000/144000 - 16s - loss: 0.4761 - accuracy: 0.7684 - val_loss: 0.4737 - val_accuracy: 0.7729\n",
            "Epoch 6/50\n",
            "144000/144000 - 17s - loss: 0.4679 - accuracy: 0.7733 - val_loss: 0.4731 - val_accuracy: 0.7751\n",
            "Epoch 7/50\n",
            "144000/144000 - 17s - loss: 0.4629 - accuracy: 0.7774 - val_loss: 0.4710 - val_accuracy: 0.7768\n",
            "Epoch 8/50\n",
            "144000/144000 - 16s - loss: 0.4563 - accuracy: 0.7819 - val_loss: 0.4750 - val_accuracy: 0.7728\n",
            "Epoch 9/50\n",
            "144000/144000 - 17s - loss: 0.4526 - accuracy: 0.7835 - val_loss: 0.4707 - val_accuracy: 0.7744\n",
            "Epoch 10/50\n",
            "144000/144000 - 16s - loss: 0.4472 - accuracy: 0.7868 - val_loss: 0.4726 - val_accuracy: 0.7783\n",
            "Epoch 11/50\n",
            "144000/144000 - 16s - loss: 0.4446 - accuracy: 0.7875 - val_loss: 0.4709 - val_accuracy: 0.7740\n",
            "Epoch 12/50\n",
            "144000/144000 - 17s - loss: 0.4408 - accuracy: 0.7901 - val_loss: 0.4790 - val_accuracy: 0.7747\n",
            "Epoch 13/50\n",
            "144000/144000 - 17s - loss: 0.4391 - accuracy: 0.7918 - val_loss: 0.4713 - val_accuracy: 0.7782\n",
            "Epoch 14/50\n",
            "144000/144000 - 16s - loss: 0.4358 - accuracy: 0.7954 - val_loss: 0.4774 - val_accuracy: 0.7756\n",
            "Epoch 15/50\n",
            "144000/144000 - 16s - loss: 0.4348 - accuracy: 0.7957 - val_loss: 0.4732 - val_accuracy: 0.7772\n",
            "Epoch 16/50\n",
            "144000/144000 - 16s - loss: 0.4323 - accuracy: 0.7952 - val_loss: 0.4725 - val_accuracy: 0.7768\n",
            "Epoch 17/50\n",
            "144000/144000 - 17s - loss: 0.4302 - accuracy: 0.7968 - val_loss: 0.4709 - val_accuracy: 0.7765\n",
            "Epoch 18/50\n",
            "144000/144000 - 17s - loss: 0.4283 - accuracy: 0.7974 - val_loss: 0.4738 - val_accuracy: 0.7782\n",
            "Epoch 19/50\n",
            "144000/144000 - 16s - loss: 0.4257 - accuracy: 0.7996 - val_loss: 0.4744 - val_accuracy: 0.7797\n",
            "Epoch 20/50\n",
            "144000/144000 - 16s - loss: 0.4247 - accuracy: 0.8012 - val_loss: 0.4737 - val_accuracy: 0.7766\n",
            "Epoch 21/50\n",
            "144000/144000 - 16s - loss: 0.4227 - accuracy: 0.8008 - val_loss: 0.4808 - val_accuracy: 0.7736\n",
            "Epoch 22/50\n",
            "144000/144000 - 17s - loss: 0.4223 - accuracy: 0.8022 - val_loss: 0.4776 - val_accuracy: 0.7756\n",
            "Epoch 23/50\n",
            "144000/144000 - 16s - loss: 0.4220 - accuracy: 0.8017 - val_loss: 0.4803 - val_accuracy: 0.7768\n",
            "Epoch 24/50\n",
            "144000/144000 - 16s - loss: 0.4200 - accuracy: 0.8030 - val_loss: 0.4825 - val_accuracy: 0.7735\n",
            "Epoch 25/50\n",
            "144000/144000 - 16s - loss: 0.4181 - accuracy: 0.8041 - val_loss: 0.4781 - val_accuracy: 0.7761\n",
            "Epoch 26/50\n",
            "144000/144000 - 16s - loss: 0.4172 - accuracy: 0.8053 - val_loss: 0.4766 - val_accuracy: 0.7779\n",
            "Epoch 27/50\n",
            "144000/144000 - 16s - loss: 0.4169 - accuracy: 0.8052 - val_loss: 0.4792 - val_accuracy: 0.7764\n",
            "Epoch 28/50\n",
            "144000/144000 - 16s - loss: 0.4163 - accuracy: 0.8051 - val_loss: 0.4818 - val_accuracy: 0.7769\n",
            "Epoch 29/50\n",
            "144000/144000 - 16s - loss: 0.4156 - accuracy: 0.8053 - val_loss: 0.4815 - val_accuracy: 0.7761\n",
            "Epoch 30/50\n",
            "144000/144000 - 16s - loss: 0.4148 - accuracy: 0.8063 - val_loss: 0.4816 - val_accuracy: 0.7753\n",
            "Epoch 31/50\n",
            "144000/144000 - 17s - loss: 0.4141 - accuracy: 0.8056 - val_loss: 0.4785 - val_accuracy: 0.7743\n",
            "Epoch 32/50\n",
            "144000/144000 - 17s - loss: 0.4148 - accuracy: 0.8061 - val_loss: 0.4797 - val_accuracy: 0.7707\n",
            "Epoch 33/50\n",
            "144000/144000 - 16s - loss: 0.4136 - accuracy: 0.8065 - val_loss: 0.4822 - val_accuracy: 0.7713\n",
            "Epoch 34/50\n",
            "144000/144000 - 17s - loss: 0.4132 - accuracy: 0.8073 - val_loss: 0.4829 - val_accuracy: 0.7771\n",
            "Epoch 35/50\n",
            "144000/144000 - 18s - loss: 0.4125 - accuracy: 0.8077 - val_loss: 0.4846 - val_accuracy: 0.7766\n",
            "Epoch 36/50\n",
            "144000/144000 - 17s - loss: 0.4105 - accuracy: 0.8085 - val_loss: 0.4890 - val_accuracy: 0.7747\n",
            "Epoch 37/50\n",
            "144000/144000 - 17s - loss: 0.4098 - accuracy: 0.8087 - val_loss: 0.4855 - val_accuracy: 0.7739\n",
            "Epoch 38/50\n",
            "144000/144000 - 17s - loss: 0.4097 - accuracy: 0.8085 - val_loss: 0.4890 - val_accuracy: 0.7753\n",
            "Epoch 39/50\n",
            "144000/144000 - 17s - loss: 0.4104 - accuracy: 0.8086 - val_loss: 0.4830 - val_accuracy: 0.7747\n",
            "Epoch 40/50\n",
            "144000/144000 - 17s - loss: 0.4090 - accuracy: 0.8085 - val_loss: 0.4851 - val_accuracy: 0.7741\n",
            "Epoch 41/50\n",
            "144000/144000 - 16s - loss: 0.4095 - accuracy: 0.8086 - val_loss: 0.4901 - val_accuracy: 0.7746\n",
            "Epoch 42/50\n",
            "144000/144000 - 17s - loss: 0.4085 - accuracy: 0.8090 - val_loss: 0.4829 - val_accuracy: 0.7753\n",
            "Epoch 43/50\n",
            "144000/144000 - 17s - loss: 0.4088 - accuracy: 0.8085 - val_loss: 0.4856 - val_accuracy: 0.7734\n",
            "Epoch 44/50\n",
            "144000/144000 - 16s - loss: 0.4068 - accuracy: 0.8103 - val_loss: 0.4898 - val_accuracy: 0.7739\n",
            "Epoch 45/50\n",
            "144000/144000 - 16s - loss: 0.4082 - accuracy: 0.8088 - val_loss: 0.4867 - val_accuracy: 0.7714\n",
            "Epoch 46/50\n",
            "144000/144000 - 17s - loss: 0.4063 - accuracy: 0.8112 - val_loss: 0.4884 - val_accuracy: 0.7729\n",
            "Epoch 47/50\n",
            "144000/144000 - 17s - loss: 0.4061 - accuracy: 0.8098 - val_loss: 0.4862 - val_accuracy: 0.7724\n",
            "Epoch 48/50\n",
            "144000/144000 - 16s - loss: 0.4077 - accuracy: 0.8108 - val_loss: 0.4865 - val_accuracy: 0.7749\n",
            "Epoch 49/50\n",
            "144000/144000 - 17s - loss: 0.4045 - accuracy: 0.8112 - val_loss: 0.4829 - val_accuracy: 0.7727\n",
            "Epoch 50/50\n",
            "144000/144000 - 17s - loss: 0.4063 - accuracy: 0.8100 - val_loss: 0.4866 - val_accuracy: 0.7736\n",
            "Training Complete\n"
          ],
          "name": "stdout"
        }
      ]
    },
    {
      "cell_type": "code",
      "metadata": {
        "id": "qxju4ItJKO8F",
        "colab_type": "code",
        "colab": {}
      },
      "source": [
        "import matplotlib.image  as mpimg\n",
        "import matplotlib.pyplot as plt\n",
        "\n",
        "#-----------------------------------------------------------\n",
        "# Retrieve a list of list results on training and test data\n",
        "# sets for each training epoch\n",
        "#-----------------------------------------------------------\n",
        "acc=history.history['acc']\n",
        "val_acc=history.history['val_acc']\n",
        "loss=history.history['loss']\n",
        "val_loss=history.history['val_loss']\n",
        "\n",
        "epochs=range(len(acc)) # Get number of epochs\n",
        "\n",
        "#------------------------------------------------\n",
        "# Plot training and validation accuracy per epoch\n",
        "#------------------------------------------------\n",
        "plt.plot(epochs, acc, 'r')\n",
        "plt.plot(epochs, val_acc, 'b')\n",
        "plt.title('Training and validation accuracy')\n",
        "plt.xlabel(\"Epochs\")\n",
        "plt.ylabel(\"Accuracy\")\n",
        "plt.legend([\"Accuracy\", \"Validation Accuracy\"])\n",
        "\n",
        "plt.figure()\n",
        "\n",
        "#------------------------------------------------\n",
        "# Plot training and validation loss per epoch\n",
        "#------------------------------------------------\n",
        "plt.plot(epochs, loss, 'r')\n",
        "plt.plot(epochs, val_loss, 'b')\n",
        "plt.title('Training and validation loss')\n",
        "plt.xlabel(\"Epochs\")\n",
        "plt.ylabel(\"Loss\")\n",
        "plt.legend([\"Loss\", \"Validation Loss\"])\n",
        "\n",
        "plt.figure()\n",
        "\n",
        "\n",
        "# Expected Output\n",
        "# A chart where the validation loss does not increase sharply!"
      ],
      "execution_count": 0,
      "outputs": []
    },
    {
      "cell_type": "code",
      "metadata": {
        "id": "a5ULR7nyTUS4",
        "colab_type": "code",
        "colab": {}
      },
      "source": [
        ""
      ],
      "execution_count": 0,
      "outputs": []
    }
  ]
}